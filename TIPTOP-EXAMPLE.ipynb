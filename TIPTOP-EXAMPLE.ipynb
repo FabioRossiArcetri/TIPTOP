{
 "cells": [
  {
   "cell_type": "code",
   "execution_count": null,
   "metadata": {},
   "outputs": [],
   "source": [
    "%matplotlib inline\n",
    "\n",
    "from tiptop import *"
   ]
  },
  {
   "cell_type": "code",
   "execution_count": null,
   "metadata": {},
   "outputs": [],
   "source": [
    "fullInputPath = \"localTest/\"\n",
    "parametersFile = 'params1'\n",
    "windPsdFile = 'MASTSEL/data/windpsd_mavis.fits'\n",
    "baseOutpuPath = 'localTest/'\n",
    "outputFile = \"test\"\n",
    "overallSimulation(fullInputPath, parametersFile, windPsdFile, baseOutpuPath, outputFile, doConvolve=True, pitchScaling = 0.9)"
   ]
  },
  {
   "cell_type": "code",
   "execution_count": null,
   "metadata": {},
   "outputs": [],
   "source": [
    "# MAVIS SIMULATIONS\n",
    "#baseInputPath = '/data7/guido/results/MAVIS/res4psf/20201116_111006.0_oaPSFs_w'\n",
    "#baseOutpuPath = '/data4/olivierbm/phaseB/fourierVe2e/MAVIS/fourierHO_LO/'\n",
    "#windPsdFile = 'data/windpsd_mavis.fits'\n",
    "baseInputPath = '/data7/guido/results/MAVIS/res4psf/20201116_111006.0_oaPSFs_w'\n",
    "baseOutpuPath = '/data4/frossi/'\n",
    "windPsdFile = 'MASTSEL/data/windpsd_mavis.fits'\n",
    "\n",
    "wvlPaths = ['450','550','640','890']\n",
    "k=-1\n",
    "for wvlPath in wvlPaths:\n",
    "    k+=1\n",
    "    fullInputPath = baseInputPath + wvlPath + 'nm/'\n",
    "    parametersFile = 'params'\n",
    "    outputFile = 'simulation' + wvlPath + 'nm'\n",
    "    overallSimulation(fullInputPath, parametersFile, windPsdFile, baseOutpuPath, outputFile,doConvolve=True,pitchScaling = 0.9)\n",
    "print('Done')"
   ]
  },
  {
   "cell_type": "code",
   "execution_count": null,
   "metadata": {},
   "outputs": [],
   "source": []
  },
  {
   "cell_type": "code",
   "execution_count": null,
   "metadata": {},
   "outputs": [],
   "source": []
  },
  {
   "cell_type": "code",
   "execution_count": null,
   "metadata": {},
   "outputs": [],
   "source": []
  },
  {
   "cell_type": "code",
   "execution_count": null,
   "metadata": {},
   "outputs": [],
   "source": []
  },
  {
   "cell_type": "code",
   "execution_count": null,
   "metadata": {},
   "outputs": [],
   "source": []
  },
  {
   "cell_type": "code",
   "execution_count": null,
   "metadata": {},
   "outputs": [],
   "source": []
  }
 ],
 "metadata": {
  "kernelspec": {
   "display_name": "Python 3",
   "language": "python",
   "name": "python3"
  },
  "language_info": {
   "codemirror_mode": {
    "name": "ipython",
    "version": 3
   },
   "file_extension": ".py",
   "mimetype": "text/x-python",
   "name": "python",
   "nbconvert_exporter": "python",
   "pygments_lexer": "ipython3",
   "version": "3.7.8"
  }
 },
 "nbformat": 4,
 "nbformat_minor": 4
}
